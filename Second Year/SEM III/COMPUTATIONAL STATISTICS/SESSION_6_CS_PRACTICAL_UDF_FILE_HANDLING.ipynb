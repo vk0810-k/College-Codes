{
 "cells": [
  {
   "cell_type": "code",
   "execution_count": 1,
   "metadata": {},
   "outputs": [],
   "source": [
    "#User Defined Function "
   ]
  },
  {
   "cell_type": "code",
   "execution_count": 6,
   "metadata": {},
   "outputs": [],
   "source": [
    "#built in fuction\n",
    "#a function that are built in python\n",
    "\n",
    "#user defined function\n",
    "#function befined by user themselves"
   ]
  },
  {
   "cell_type": "code",
   "execution_count": 9,
   "metadata": {},
   "outputs": [
    {
     "name": "stdout",
     "output_type": "stream",
     "text": [
      "Hello, this is from my function\n"
     ]
    }
   ],
   "source": [
    "#def is keyword used to define a udf\n",
    "def firstFunction():\n",
    "    print(\"Hello, this is from my function\")\n",
    "\n",
    "firstFunction()"
   ]
  },
  {
   "cell_type": "code",
   "execution_count": 19,
   "metadata": {},
   "outputs": [
    {
     "name": "stdout",
     "output_type": "stream",
     "text": [
      "Varun Khadayate\n"
     ]
    }
   ],
   "source": [
    "#Arguments\n",
    "#infomation thaqt can be passed into function arguments.\n",
    "\n",
    "def myFunction(fname):   #argument passed is fname\n",
    "    print(fname + \" Khadayate\")\n",
    "    \n",
    "myFunction(\"Varun\")"
   ]
  },
  {
   "cell_type": "code",
   "execution_count": 20,
   "metadata": {},
   "outputs": [
    {
     "name": "stdout",
     "output_type": "stream",
     "text": [
      "Dom Toretto\n"
     ]
    }
   ],
   "source": [
    "def fullname(fname, lname):\n",
    "    print(fname + \" \" + lname)\n",
    "\n",
    "fullname(\"Dom\",\"Toretto\")"
   ]
  },
  {
   "cell_type": "code",
   "execution_count": 22,
   "metadata": {},
   "outputs": [
    {
     "name": "stdout",
     "output_type": "stream",
     "text": [
      "Hello, Brian O'Conner. Good Afternoon\n"
     ]
    }
   ],
   "source": [
    "def greet(name):\n",
    "    '''\n",
    "    This function greets to the person passed as parameter\n",
    "    '''\n",
    "    print(\"Hello, \" + name + \". Good Afternoon\")\n",
    "    \n",
    "greet(\"Brian O'Conner\")"
   ]
  },
  {
   "cell_type": "code",
   "execution_count": 2,
   "metadata": {},
   "outputs": [
    {
     "name": "stdout",
     "output_type": "stream",
     "text": [
      "The youngest child is::Kiya\n"
     ]
    }
   ],
   "source": [
    "#arbitarry arguments. *args\n",
    "#if ther number of arguments is unknown, add * before the paramenter\n",
    "def myFunction(*kids):\n",
    "    print(\"The youngest child is::\" +kids[0])\n",
    "    \n",
    "myFunction(\"Kiya\",\"Kiwi\")"
   ]
  },
  {
   "cell_type": "code",
   "execution_count": 33,
   "metadata": {},
   "outputs": [
    {
     "name": "stdout",
     "output_type": "stream",
     "text": [
      "The youngest child is::Letty\n"
     ]
    }
   ],
   "source": [
    "#keyword argument\n",
    "#you can also send arfumnets with the key value syntax.\n",
    "\n",
    "def childFunction(child3,child1,child2):\n",
    "    print(\"The youngest child is::\" + child3)\n",
    "    \n",
    "childFunction(child1 = \"Gissele\", child2 = \"Mia\", child3 = \"Letty\")"
   ]
  },
  {
   "cell_type": "code",
   "execution_count": 40,
   "metadata": {},
   "outputs": [
    {
     "name": "stdout",
     "output_type": "stream",
     "text": [
      "My name is:: Hobbs and age is::  14\n"
     ]
    }
   ],
   "source": [
    "#keyword argument **kwargs\n",
    "def childFunction(**kid):\n",
    "    print(\"My name is:: \" + kid[\"lname\"] + \"and age is::  \" + kid[\"age\"])\n",
    "\n",
    "childFunction(fname = \"Luke\", lname = \"Hobbs \", age = \"14\")"
   ]
  },
  {
   "cell_type": "code",
   "execution_count": 4,
   "metadata": {},
   "outputs": [
    {
     "name": "stdout",
     "output_type": "stream",
     "text": [
      "I am from :: India\n",
      "I am from :: Norway\n"
     ]
    }
   ],
   "source": [
    "#defalult value\n",
    "\n",
    "def myCountry(country = \"Norway\"):\n",
    "    print(\"I am from :: \" +country) \n",
    "\n",
    "myCountry(\"India\")\n",
    "myCountry()"
   ]
  },
  {
   "cell_type": "code",
   "execution_count": 5,
   "metadata": {},
   "outputs": [
    {
     "name": "stdout",
     "output_type": "stream",
     "text": [
      "MI\n",
      "Apple\n",
      "Samsung\n"
     ]
    }
   ],
   "source": [
    "phoneList = [\"MI\",\"Apple\",\"Samsung\"]\n",
    "\n",
    "def phFunction(phone):\n",
    "    for x in phone:\n",
    "        print(x)\n",
    "    \n",
    "phFunction(phoneList)"
   ]
  },
  {
   "cell_type": "code",
   "execution_count": 53,
   "metadata": {},
   "outputs": [
    {
     "data": {
      "text/plain": [
       "30"
      ]
     },
     "execution_count": 53,
     "metadata": {},
     "output_type": "execute_result"
    }
   ],
   "source": [
    "#return values\n",
    "#to let a function return its values we use return statements\n",
    "def fivemultiple(num):\n",
    "    return 5 *num\n",
    "\n",
    "fivemultiple(6)"
   ]
  },
  {
   "cell_type": "code",
   "execution_count": 54,
   "metadata": {},
   "outputs": [
    {
     "name": "stdout",
     "output_type": "stream",
     "text": [
      "Odd\n"
     ]
    }
   ],
   "source": [
    "def evenodd(num):\n",
    "    if(num%2 == 0):\n",
    "        print(\"Even\")\n",
    "    else:\n",
    "        print(\"Odd\")\n",
    "\n",
    "evenodd(5)"
   ]
  },
  {
   "cell_type": "code",
   "execution_count": 1,
   "metadata": {},
   "outputs": [
    {
     "name": "stdout",
     "output_type": "stream",
     "text": [
      "22.6 : 72.68\n",
      "32.5 : 90.5\n",
      "24.6 : 76.28\n"
     ]
    }
   ],
   "source": [
    "def fahrenheit(T_in_celcius):\n",
    "    \"\"\"return the temperature in degrees Farhenheit\"\"\"\n",
    "    return (T_in_celcius * 9 / 5) + 32\n",
    "\n",
    " \n",
    "\n",
    "for t in (22.6, 32.5, 24.6):\n",
    "    print(t, \":\" , fahrenheit(t))"
   ]
  },
  {
   "cell_type": "code",
   "execution_count": 2,
   "metadata": {},
   "outputs": [],
   "source": [
    "#FILE HANDLING\n",
    "\n",
    "#open() function is used to open file but it takes 2 paramneter s that are file name and mode\n",
    "#there r 4 types of modes read(r) write(w) append(a)-open file for appending \n",
    "#create(x)"
   ]
  },
  {
   "cell_type": "code",
   "execution_count": 23,
   "metadata": {},
   "outputs": [],
   "source": [
    "f = open(\"MYFILE.txt\",\"r\")"
   ]
  },
  {
   "cell_type": "code",
   "execution_count": 24,
   "metadata": {},
   "outputs": [
    {
     "data": {
      "text/plain": [
       "'hELLO THIS IS VARUN HERE'"
      ]
     },
     "execution_count": 24,
     "metadata": {},
     "output_type": "execute_result"
    }
   ],
   "source": [
    "f.read()"
   ]
  },
  {
   "cell_type": "code",
   "execution_count": 29,
   "metadata": {},
   "outputs": [
    {
     "name": "stdout",
     "output_type": "stream",
     "text": [
      "hELLO\n"
     ]
    }
   ],
   "source": [
    "f = open(\"MYFILE.txt\",\"r\")\n",
    "print(f.read(5))"
   ]
  },
  {
   "cell_type": "code",
   "execution_count": 30,
   "metadata": {},
   "outputs": [
    {
     "name": "stdout",
     "output_type": "stream",
     "text": [
      "hELLO THIS IS VARUN HERE\n"
     ]
    }
   ],
   "source": [
    "f = open(\"MYFILE.txt\",\"r\")\n",
    "print(f.readline())"
   ]
  },
  {
   "cell_type": "code",
   "execution_count": 34,
   "metadata": {},
   "outputs": [
    {
     "name": "stdout",
     "output_type": "stream",
     "text": [
      "HELLO THIS IS VARUN HERE\n",
      "\n",
      "DOM TORETTO\n",
      "\n",
      "BRIAN O'CONNER\n"
     ]
    }
   ],
   "source": [
    "f = open(\"MYFILE.txt\",\"r\")\n",
    "print(f.readline())\n",
    "print(f.readline())\n",
    "print(f.readline())\n",
    "\n",
    "f.close()"
   ]
  },
  {
   "cell_type": "code",
   "execution_count": 36,
   "metadata": {},
   "outputs": [],
   "source": [
    "f = open(\"MYFILE.txt\",\"a\")\n",
    "f.write(\"Now the file has more content\")\n",
    "f.close()"
   ]
  },
  {
   "cell_type": "code",
   "execution_count": 53,
   "metadata": {},
   "outputs": [],
   "source": [
    "#f = open(\"MYFILE.txt\",\"r\")\n",
    "#f.read()\n",
    "f.close()"
   ]
  },
  {
   "cell_type": "code",
   "execution_count": 56,
   "metadata": {},
   "outputs": [
    {
     "ename": "PermissionError",
     "evalue": "[WinError 32] The process cannot access the file because it is being used by another process: 'MYFILE.txt'",
     "output_type": "error",
     "traceback": [
      "\u001b[1;31m---------------------------------------------------------------------------\u001b[0m",
      "\u001b[1;31mPermissionError\u001b[0m                           Traceback (most recent call last)",
      "\u001b[1;32m<ipython-input-56-f69d1c1471fe>\u001b[0m in \u001b[0;36m<module>\u001b[1;34m\u001b[0m\n\u001b[0;32m      1\u001b[0m \u001b[1;32mimport\u001b[0m \u001b[0mos\u001b[0m\u001b[1;33m\u001b[0m\u001b[1;33m\u001b[0m\u001b[0m\n\u001b[0;32m      2\u001b[0m \u001b[1;33m\u001b[0m\u001b[0m\n\u001b[1;32m----> 3\u001b[1;33m \u001b[0mos\u001b[0m\u001b[1;33m.\u001b[0m\u001b[0mremove\u001b[0m\u001b[1;33m(\u001b[0m\u001b[1;34m\"MYFILE.txt\"\u001b[0m\u001b[1;33m)\u001b[0m\u001b[1;33m\u001b[0m\u001b[1;33m\u001b[0m\u001b[0m\n\u001b[0m",
      "\u001b[1;31mPermissionError\u001b[0m: [WinError 32] The process cannot access the file because it is being used by another process: 'MYFILE.txt'"
     ]
    }
   ],
   "source": [
    "import os\n",
    "\n",
    "os.remove(\"MYFILE.txt\")"
   ]
  },
  {
   "cell_type": "code",
   "execution_count": null,
   "metadata": {},
   "outputs": [],
   "source": []
  }
 ],
 "metadata": {
  "kernelspec": {
   "display_name": "Python 3",
   "language": "python",
   "name": "python3"
  },
  "language_info": {
   "codemirror_mode": {
    "name": "ipython",
    "version": 3
   },
   "file_extension": ".py",
   "mimetype": "text/x-python",
   "name": "python",
   "nbconvert_exporter": "python",
   "pygments_lexer": "ipython3",
   "version": "3.8.5"
  }
 },
 "nbformat": 4,
 "nbformat_minor": 4
}

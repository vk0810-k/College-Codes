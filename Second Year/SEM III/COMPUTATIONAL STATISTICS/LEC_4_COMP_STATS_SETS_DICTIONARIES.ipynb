{
 "cells": [
  {
   "cell_type": "code",
   "execution_count": 8,
   "metadata": {},
   "outputs": [
    {
     "name": "stdout",
     "output_type": "stream",
     "text": [
      "{1, 2, 3}\n",
      "{'Hello', 2.0, (1, 2, 3)}\n",
      "<class 'set'>\n"
     ]
    }
   ],
   "source": [
    "num = {1,2,3}\n",
    "print(num)\n",
    "\n",
    "num1 = {2.0, \"Hello\", (1,2,3)}\n",
    "print(num1)\n",
    "\n",
    "print(type(num1))"
   ]
  },
  {
   "cell_type": "code",
   "execution_count": 36,
   "metadata": {},
   "outputs": [
    {
     "name": "stdout",
     "output_type": "stream",
     "text": [
      "<class 'dict'>\n",
      "<class 'set'>\n",
      "{'y', 't', 'n', 'P', 'h', 'o'}\n"
     ]
    }
   ],
   "source": [
    "#empty {} will make an empty dictionary,\n",
    "#empty () will make an empty set\n",
    "\n",
    "a = {}\n",
    "print(type(a))\n",
    "\n",
    "x = set()\n",
    "print(type(x))\n",
    "\n",
    "y = set(\"Python\")\n",
    "print(y)"
   ]
  },
  {
   "cell_type": "code",
   "execution_count": 18,
   "metadata": {},
   "outputs": [
    {
     "name": "stdout",
     "output_type": "stream",
     "text": [
      "{1, 2, 3, 4, 5, 6}\n",
      "{(5, 6), 2, 3}\n"
     ]
    }
   ],
   "source": [
    "#set do not have duplicates\n",
    "numSet = {1,2,3,4,5,6,2,1,5,4,3}\n",
    "print(numSet)\n",
    "\n",
    "#listSet = {2,3,[5,6]}  #since list r mutaple not allowed in set\n",
    "#print(listSet)\n",
    "\n",
    "tupleSet = {2,3,(5,6)}  #since tuple r immutaple allowed in set\n",
    "print(tupleSet)"
   ]
  },
  {
   "cell_type": "code",
   "execution_count": 26,
   "metadata": {},
   "outputs": [
    {
     "name": "stdout",
     "output_type": "stream",
     "text": [
      "{1, 2, 3, 4, 5, 6, 7, 8, 9, 10}\n",
      "{1, 2, 3, 4, 5, 6, 7, 8, 9, 10}\n",
      "{1, 2, 3, 4, 5, 6, 7, 8, 9, 10}\n",
      "{1, 2, 3, 4, 5, 6, 7, 8, 9, 10, 11, 12, 13, 14, 15}\n"
     ]
    }
   ],
   "source": [
    "print(numSet)\n",
    "#add a single element we can use add()\n",
    "numSet.add(7)\n",
    "print(numSet)\n",
    "\n",
    "#add a multiple element we can use update()\n",
    "numSet.update([8,9,10])\n",
    "print(numSet)\n",
    "\n",
    "numSet.update([11,12],{13,14,15})\n",
    "print(numSet)"
   ]
  },
  {
   "cell_type": "code",
   "execution_count": 29,
   "metadata": {},
   "outputs": [
    {
     "name": "stdout",
     "output_type": "stream",
     "text": [
      "{1, 2, 3, 4, 5, 6, 7, 8, 9, 10, 11, 13, 14, 15}\n",
      "{1, 2, 3, 4, 5, 6, 7, 8, 9, 10, 11, 13, 14, 15}\n",
      "{1, 2, 3, 4, 5, 6, 8, 9, 10, 11, 13, 14, 15}\n"
     ]
    }
   ],
   "source": [
    "#to remove element from a set\n",
    "\n",
    "print(numSet)\n",
    "\n",
    "numSet.discard(12)\n",
    "print(numSet)\n",
    "\n",
    "numSet.remove(7)\n",
    "print(numSet)"
   ]
  },
  {
   "cell_type": "code",
   "execution_count": 37,
   "metadata": {},
   "outputs": [
    {
     "name": "stdout",
     "output_type": "stream",
     "text": [
      "{'y', 't', 'n', 'P', 'h', 'o'}\n",
      "{'t', 'n', 'P', 'h', 'o'}\n",
      "set()\n"
     ]
    }
   ],
   "source": [
    "print(y)\n",
    "\n",
    "y.pop() #to pop an element\n",
    "print(y)\n",
    "\n",
    "y.clear() #to clear the set\n",
    "print(y)"
   ]
  },
  {
   "cell_type": "code",
   "execution_count": 1,
   "metadata": {},
   "outputs": [
    {
     "name": "stdout",
     "output_type": "stream",
     "text": [
      "set()\n"
     ]
    }
   ],
   "source": [
    "#union is performed using | operator or can use union()\n",
    "#intersection is performed using & operator or can use intersection()\n",
    "\n",
    "set1 = {'a','b','c'}\n",
    "set2 = {1,2,3}\n",
    "\n",
    "set3 = set1&set2\n",
    "print(set3)"
   ]
  },
  {
   "cell_type": "code",
   "execution_count": 41,
   "metadata": {},
   "outputs": [
    {
     "name": "stdout",
     "output_type": "stream",
     "text": [
      "<class 'set'>\n"
     ]
    }
   ],
   "source": [
    "#the set() constructor\n",
    "\n",
    "fruitSet = set((\"apple\",\"cherry\",\"peach\"))\n",
    "print(type(fruitSet))"
   ]
  },
  {
   "cell_type": "code",
   "execution_count": 2,
   "metadata": {},
   "outputs": [
    {
     "name": "stdout",
     "output_type": "stream",
     "text": [
      "{'Apple'}\n"
     ]
    }
   ],
   "source": [
    "x = {\"Apple\",\"Cherry\",\"Peach\"}\n",
    "y = {\"Microsoft\",\"Google\",\"Apple\"}\n",
    "\n",
    "z = x&y\n",
    "print(z)"
   ]
  },
  {
   "cell_type": "code",
   "execution_count": 44,
   "metadata": {},
   "outputs": [
    {
     "name": "stdout",
     "output_type": "stream",
     "text": [
      "{'Google', 'peach', 'cherry', 'Microsoft'}\n"
     ]
    }
   ],
   "source": [
    "#to return those which show uncommon one\n",
    "xd = x.symmetric_difference(y)\n",
    "print(xd)"
   ]
  },
  {
   "cell_type": "code",
   "execution_count": 45,
   "metadata": {},
   "outputs": [
    {
     "name": "stdout",
     "output_type": "stream",
     "text": [
      "{'cherry', 'peach'}\n"
     ]
    }
   ],
   "source": [
    "#show only thiose element uncommon in x \n",
    "d = x.difference(y)\n",
    "print(d)"
   ]
  },
  {
   "cell_type": "code",
   "execution_count": 46,
   "metadata": {},
   "outputs": [
    {
     "name": "stdout",
     "output_type": "stream",
     "text": [
      "False\n"
     ]
    }
   ],
   "source": [
    "#to show whether there r any common elements or not\n",
    "idis = x.isdisjoint(y)\n",
    "print(idis)"
   ]
  },
  {
   "cell_type": "code",
   "execution_count": 47,
   "metadata": {},
   "outputs": [],
   "source": [
    "#DICTIONARIES\n",
    "#collection which is unordered,changable and indexed"
   ]
  },
  {
   "cell_type": "code",
   "execution_count": 76,
   "metadata": {},
   "outputs": [
    {
     "name": "stdout",
     "output_type": "stream",
     "text": [
      "{'Fname': 'Varun', 'Lname': 'Khadayate', 'Address': 'Panvel'}\n"
     ]
    }
   ],
   "source": [
    "myDict = {\n",
    "    \"Fname\" : \"Varun\",\n",
    "    \"Lname\" : \"Khadayate\",\n",
    "    \"Address\" : \"Panvel\"\n",
    "}\n",
    "print(myDict)"
   ]
  },
  {
   "cell_type": "code",
   "execution_count": 64,
   "metadata": {},
   "outputs": [
    {
     "name": "stdout",
     "output_type": "stream",
     "text": [
      "Varun\n"
     ]
    }
   ],
   "source": [
    "#accessing items \n",
    "x = myDict[\"Fname\"]\n",
    "print(x)"
   ]
  },
  {
   "cell_type": "code",
   "execution_count": 65,
   "metadata": {},
   "outputs": [
    {
     "name": "stdout",
     "output_type": "stream",
     "text": [
      "{'Fname': 'Varun', 'Lname': 'Khadayate', 'Address': 'Panvel'}\n",
      "{'Fname': 'Varun', 'Lname': 'Khadayate', 'Address': 'Kharghar'}\n",
      "{'Fname': 'Varun', 'Lname': 'Khadayate', 'Address': 'Kharghar', 'Email': 'varunkhadayate0810@gmail.com'}\n"
     ]
    }
   ],
   "source": [
    "#to change values\n",
    "print(myDict)\n",
    "myDict[\"Address\"] = \"Kharghar\"\n",
    "print(myDict)\n",
    "\n",
    "#we can also add it\n",
    "myDict[\"Email\"] = \"varunkhadayate0810@gmail.com\"\n",
    "print(myDict)"
   ]
  },
  {
   "cell_type": "code",
   "execution_count": 66,
   "metadata": {},
   "outputs": [
    {
     "name": "stdout",
     "output_type": "stream",
     "text": [
      "Fname\n",
      "Lname\n",
      "Address\n",
      "Email\n",
      "-------------\n",
      "Varun\n",
      "Khadayate\n",
      "Kharghar\n",
      "varunkhadayate0810@gmail.com\n"
     ]
    }
   ],
   "source": [
    "#loop throgh dictionary\n",
    "\n",
    "for x in myDict:  #print all key names in dictioanry  one by one\n",
    "    print(x)\n",
    "    \n",
    "print(\"-------------\")\n",
    "\n",
    "for x in myDict.values():  \n",
    "    print(x)"
   ]
  },
  {
   "cell_type": "code",
   "execution_count": 67,
   "metadata": {},
   "outputs": [
    {
     "name": "stdout",
     "output_type": "stream",
     "text": [
      "4\n"
     ]
    }
   ],
   "source": [
    "print(len(myDict))"
   ]
  },
  {
   "cell_type": "code",
   "execution_count": 74,
   "metadata": {},
   "outputs": [
    {
     "name": "stdout",
     "output_type": "stream",
     "text": [
      "{'Lname': 'Khadayate', 'Address': 'Kharghar', 'Email': 'varunkhadayate0810@gmail.com'}\n",
      "{'Lname': 'Khadayate', 'Email': 'varunkhadayate0810@gmail.com'}\n"
     ]
    }
   ],
   "source": [
    "#removing elements \n",
    "#can use pop n del\n",
    "print(myDict)\n",
    "\n",
    "#myDict.pop('Fname')\n",
    "#print(myDict)\n",
    "\n",
    "myDict.pop('Address')\n",
    "print(myDict)"
   ]
  },
  {
   "cell_type": "code",
   "execution_count": 77,
   "metadata": {},
   "outputs": [
    {
     "name": "stdout",
     "output_type": "stream",
     "text": [
      "{'Fname': 'Varun', 'Lname': 'Khadayate', 'Address': 'Panvel'}\n"
     ]
    }
   ],
   "source": [
    "#myDict.clear()\n",
    "print(myDict)"
   ]
  },
  {
   "cell_type": "code",
   "execution_count": 78,
   "metadata": {},
   "outputs": [
    {
     "name": "stdout",
     "output_type": "stream",
     "text": [
      "{'Fname': 'Varun', 'Lname': 'Khadayate', 'Address': 'Panvel'}\n",
      "{'Fname': 'Varun', 'Lname': 'Khadayate', 'Address': 'Panvel'}\n"
     ]
    }
   ],
   "source": [
    "thisDict = {\n",
    "    \"Fname\" : \"Varun\",\n",
    "    \"Lname\" : \"Khadayate\",\n",
    "    \"Address\" : \"Panvel\"\n",
    "}\n",
    "print(thisDict)\n",
    "\n",
    "myDict = thisDict.copy()\n",
    "print(myDict)"
   ]
  },
  {
   "cell_type": "code",
   "execution_count": 84,
   "metadata": {},
   "outputs": [
    {
     "name": "stdout",
     "output_type": "stream",
     "text": [
      "{'child1': {'Name': 'Varun', 'Year': '2001'}, 'child2': {'Name': 'Mahendra', 'Year': '1970'}, 'child3': {'Name': 'Amita', 'Year': '1972'}}\n"
     ]
    }
   ],
   "source": [
    "#nested dictionary\n",
    "myFamily = {\n",
    "    \"child1\" : {\n",
    "        \"Name\" : \"Varun\",\n",
    "        \"Year\" : \"2001\"\n",
    "    },\n",
    "    \"child2\" : {\n",
    "        \"Name\" : \"Mahendra\",\n",
    "        \"Year\" : \"1970\"\n",
    "    },\n",
    "    \"child3\" : {\n",
    "        \"Name\" : \"Amita\",\n",
    "        \"Year\" : \"1972\"\n",
    "    }\n",
    "}\n",
    "print(myFamily)"
   ]
  },
  {
   "cell_type": "code",
   "execution_count": 91,
   "metadata": {},
   "outputs": [
    {
     "name": "stdout",
     "output_type": "stream",
     "text": [
      "{'child1': {'Name': 'Varun', 'Year': '2001'}, 'child2': {'Name': 'MAK', 'Year': '1970'}, 'child3': {'Name': 'Amita', 'Year': '1972'}}\n"
     ]
    }
   ],
   "source": [
    "c1 = {\n",
    "        \"Name\" : \"Varun\",\n",
    "        \"Year\" : \"2001\"\n",
    "    }\n",
    "c2 = {\n",
    "        \"Name\" : \"MAK\",\n",
    "        \"Year\" : \"1970\"\n",
    "    }\n",
    "c3 = {\n",
    "        \"Name\" : \"Amita\",\n",
    "        \"Year\" : \"1972\"\n",
    "    }\n",
    "myFamily = {\n",
    "    \"child1\" : c1,\n",
    "    \"child2\" : c2,\n",
    "    \"child3\" : c3\n",
    "}\n",
    "print(myFamily)"
   ]
  },
  {
   "cell_type": "code",
   "execution_count": 92,
   "metadata": {},
   "outputs": [
    {
     "name": "stdout",
     "output_type": "stream",
     "text": [
      "{1: 1, 2: 8, 3: 27, 4: 64, 5: 125, 6: 216, 7: 343, 8: 512, 9: 729, 10: 1000, 11: 1331, 12: 1728, 13: 2197, 14: 2744, 15: 3375}\n"
     ]
    }
   ],
   "source": [
    "#to print a dictionary where keys are numbers between 1 and 15\n",
    "#and the value are cube of keys\n",
    "numdict = {}\n",
    "for x in range(1,16):\n",
    "    numdict[x]=x*x*x\n",
    "print(numdict) "
   ]
  },
  {
   "cell_type": "code",
   "execution_count": null,
   "metadata": {},
   "outputs": [],
   "source": [
    "#Write a Python program to reverse a string. \n"
   ]
  }
 ],
 "metadata": {
  "kernelspec": {
   "display_name": "Python 3",
   "language": "python",
   "name": "python3"
  },
  "language_info": {
   "codemirror_mode": {
    "name": "ipython",
    "version": 3
   },
   "file_extension": ".py",
   "mimetype": "text/x-python",
   "name": "python",
   "nbconvert_exporter": "python",
   "pygments_lexer": "ipython3",
   "version": "3.8.5"
  }
 },
 "nbformat": 4,
 "nbformat_minor": 4
}

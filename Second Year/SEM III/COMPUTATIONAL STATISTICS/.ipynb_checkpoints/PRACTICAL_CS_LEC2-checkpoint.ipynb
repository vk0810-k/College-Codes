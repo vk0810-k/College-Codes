{
 "cells": [
  {
   "cell_type": "code",
   "execution_count": 3,
   "metadata": {},
   "outputs": [
    {
     "name": "stdout",
     "output_type": "stream",
     "text": [
      "my book ofpython\n",
      "my book of python\n",
      "my book of my book of my book of my book of \n"
     ]
    }
   ],
   "source": [
    "book1 = 'my book of'\n",
    "book2 = 'python'\n",
    "print(book1 + book2)\n",
    "print(book1 + ' ' + book2)\n",
    "print((book1 + ' ')*4)"
   ]
  },
  {
   "cell_type": "code",
   "execution_count": 5,
   "metadata": {},
   "outputs": [
    {
     "name": "stdout",
     "output_type": "stream",
     "text": [
      "Your full name is:  Varun Khadayate\n"
     ]
    }
   ],
   "source": [
    "fname = \"Varun\"\n",
    "lname = \"Khadayate\"\n",
    "fullname = fname + \" \" + lname\n",
    "print(\"Your full name is: \",fullname)"
   ]
  },
  {
   "cell_type": "code",
   "execution_count": 10,
   "metadata": {},
   "outputs": [
    {
     "data": {
      "text/plain": [
       "True"
      ]
     },
     "execution_count": 10,
     "metadata": {},
     "output_type": "execute_result"
    }
   ],
   "source": [
    "book = \"I have a python book\"\n",
    "#'x' in book\n",
    "#'o' in book\n",
    "'f' not in book"
   ]
  },
  {
   "cell_type": "code",
   "execution_count": 14,
   "metadata": {},
   "outputs": [
    {
     "data": {
      "text/plain": [
       "[(0, 'I'),\n",
       " (1, ' '),\n",
       " (2, 'h'),\n",
       " (3, 'a'),\n",
       " (4, 'v'),\n",
       " (5, 'e'),\n",
       " (6, ' '),\n",
       " (7, 'a'),\n",
       " (8, ' '),\n",
       " (9, 'p'),\n",
       " (10, 'y'),\n",
       " (11, 't'),\n",
       " (12, 'h'),\n",
       " (13, 'o'),\n",
       " (14, 'n'),\n",
       " (15, ' '),\n",
       " (16, 'b'),\n",
       " (17, 'o'),\n",
       " (18, 'o'),\n",
       " (19, 'k')]"
      ]
     },
     "execution_count": 14,
     "metadata": {},
     "output_type": "execute_result"
    }
   ],
   "source": [
    "list(enumerate(book)) #to print in list letter by letter"
   ]
  },
  {
   "cell_type": "code",
   "execution_count": 15,
   "metadata": {},
   "outputs": [
    {
     "data": {
      "text/plain": [
       "'i have a python book'"
      ]
     },
     "execution_count": 15,
     "metadata": {},
     "output_type": "execute_result"
    }
   ],
   "source": [
    "book.upper() #to convert in upper case\n",
    "book.lower() #to convert in lower case"
   ]
  },
  {
   "cell_type": "markdown",
   "metadata": {},
   "source": [
    "' '.join(('I','am','a','student','of','BTECH','CSBS'))"
   ]
  },
  {
   "cell_type": "code",
   "execution_count": 18,
   "metadata": {},
   "outputs": [
    {
     "data": {
      "text/plain": [
       "'I am a student of BTECH CSBS'"
      ]
     },
     "execution_count": 18,
     "metadata": {},
     "output_type": "execute_result"
    }
   ],
   "source": [
    "' '.join(('I','am','a','student','of','BTECH','CSBS'))"
   ]
  },
  {
   "cell_type": "code",
   "execution_count": 19,
   "metadata": {},
   "outputs": [
    {
     "data": {
      "text/plain": [
       "['I', 'have', 'a', 'python', 'book']"
      ]
     },
     "execution_count": 19,
     "metadata": {},
     "output_type": "execute_result"
    }
   ],
   "source": [
    "book.split() #will seperate elements"
   ]
  },
  {
   "cell_type": "code",
   "execution_count": 30,
   "metadata": {},
   "outputs": [
    {
     "data": {
      "text/plain": [
       "1"
      ]
     },
     "execution_count": 30,
     "metadata": {},
     "output_type": "execute_result"
    }
   ],
   "source": [
    "'I am a boy'.find(' ') #finds a letter position in string it finds a string with +ve index"
   ]
  },
  {
   "cell_type": "code",
   "execution_count": 32,
   "metadata": {},
   "outputs": [
    {
     "data": {
      "text/plain": [
       "'boy'"
      ]
     },
     "execution_count": 32,
     "metadata": {},
     "output_type": "execute_result"
    }
   ],
   "source": [
    "'I am a girl'.replace('I am a girl','boy') #will replace girl with boy"
   ]
  },
  {
   "cell_type": "code",
   "execution_count": 31,
   "metadata": {},
   "outputs": [
    {
     "data": {
      "text/plain": [
       "14"
      ]
     },
     "execution_count": 31,
     "metadata": {},
     "output_type": "execute_result"
    }
   ],
   "source": [
    "#sorted() \n",
    "a = 'I am a boy 201'\n",
    "#len(a)\n",
    "sorted(a)"
   ]
  },
  {
   "cell_type": "code",
   "execution_count": 39,
   "metadata": {},
   "outputs": [
    {
     "name": "stdout",
     "output_type": "stream",
     "text": [
      "varun Khadayate \n",
      " 18 \n",
      " varun Khadayate 18 \n",
      " 18 \n",
      " True \n",
      " ['varun', 'Khadayate', '18']\n"
     ]
    }
   ],
   "source": [
    "name = \"varun Khadayate\"\n",
    "age = \"18\"\n",
    "mydetail = name + ' ' + age\n",
    "mylen = len(mydetail)\n",
    "r_is = 'r' in mydetail\n",
    "mysplit =  mydetail.split()\n",
    "\n",
    "print(name,\"\\n\",age,\"\\n\",mydetail,\"\\n\",mylen,\"\\n\",r_is,\"\\n\",mysplit)"
   ]
  },
  {
   "cell_type": "code",
   "execution_count": 42,
   "metadata": {},
   "outputs": [
    {
     "name": "stdout",
     "output_type": "stream",
     "text": [
      "<class 'int'>\n",
      "<class 'float'>\n",
      "<class 'complex'>\n",
      "<class 'float'>\n",
      "<class 'float'>\n",
      "<class 'float'>\n"
     ]
    }
   ],
   "source": [
    "x = 1\n",
    "y = 2.8\n",
    "z = 1j\n",
    "u = 35e3\n",
    "v = 12E4\n",
    "w = -87.7e100\n",
    "\n",
    "print(type(x))\n",
    "print(type(y))\n",
    "print(type(z))\n",
    "print(type(u))\n",
    "print(type(v))\n",
    "print(type(w))"
   ]
  },
  {
   "cell_type": "code",
   "execution_count": 46,
   "metadata": {},
   "outputs": [
    {
     "name": "stdout",
     "output_type": "stream",
     "text": [
      "1.0\n",
      "2\n",
      "(1+0j)\n",
      "1j\n",
      "<class 'float'>\n",
      "<class 'int'>\n",
      "<class 'complex'>\n",
      "<class 'str'>\n"
     ]
    }
   ],
   "source": [
    "#convert one type to another\n",
    "x = 1 #integer\n",
    "y = 2.8 #float\n",
    "z = 1j #complex\n",
    "\n",
    "#convert int to float\n",
    "a = float(x)\n",
    "\n",
    "#convert float to int\n",
    "b = int(y)\n",
    "\n",
    "#convert int to complex\n",
    "c = complex(x)\n",
    "\n",
    "#string\n",
    "d = str(z)\n",
    "\n",
    "print(a)\n",
    "print(b)\n",
    "print(c)\n",
    "print(d)\n",
    "\n",
    "print(type(a))\n",
    "print(type(b))\n",
    "print(type(c))\n",
    "print(type(d))"
   ]
  },
  {
   "cell_type": "code",
   "execution_count": 56,
   "metadata": {},
   "outputs": [
    {
     "data": {
      "text/plain": [
       "8"
      ]
     },
     "execution_count": 56,
     "metadata": {},
     "output_type": "execute_result"
    }
   ],
   "source": [
    "abs(-12) #absolute value\n",
    "round(3.45) #to round a number\n",
    "round(34.5675,2) #round to 2 decimal points\n",
    "max(12,2,44,199) #to find the max number\n",
    "min(12,2,44,199) #to find the min number\n",
    "pow(2,3) #to find power of 2^3"
   ]
  },
  {
   "cell_type": "code",
   "execution_count": 65,
   "metadata": {},
   "outputs": [
    {
     "name": "stdout",
     "output_type": "stream",
     "text": [
      "1\n",
      "10\n",
      "2.5\n",
      "7\n",
      "3\n",
      "7\n",
      "2\n"
     ]
    }
   ],
   "source": [
    "x = 5;y = 2\n",
    "print(x%y) #modulus\n",
    "print(x*y) #mul\n",
    "print(x/y) #devide\n",
    "print(x+y) #add\n",
    "print(x-y) #subs\n",
    "print(x^y) #exp\n",
    "print(x//y) #floor division"
   ]
  },
  {
   "cell_type": "code",
   "execution_count": 62,
   "metadata": {},
   "outputs": [
    {
     "data": {
      "text/plain": [
       "True"
      ]
     },
     "execution_count": 62,
     "metadata": {},
     "output_type": "execute_result"
    }
   ],
   "source": [
    "x = (1,2) ; y = (2,3)\n",
    "x != y #comaprison operator not equal tp "
   ]
  },
  {
   "cell_type": "code",
   "execution_count": 66,
   "metadata": {},
   "outputs": [
    {
     "data": {
      "text/plain": [
       "True"
      ]
     },
     "execution_count": 66,
     "metadata": {},
     "output_type": "execute_result"
    }
   ],
   "source": [
    "z = 45 ; y = 30\n",
    "z < y\n",
    "z > y"
   ]
  },
  {
   "cell_type": "code",
   "execution_count": 68,
   "metadata": {},
   "outputs": [
    {
     "name": "stdout",
     "output_type": "stream",
     "text": [
      "True\n",
      "False\n",
      "True\n",
      "True\n"
     ]
    }
   ],
   "source": [
    "x = 15 ; y = 12\n",
    "is_greater = x > y\n",
    "is_lesser = x < y\n",
    "is_equal = x = y\n",
    "is_greater_equal_to = x >= y\n",
    "is_less_equal_to = x <= y\n",
    "print(is_greater)\n",
    "print(is_lesser)\n",
    "print(is_greater_equal_to)\n",
    "print(is_less_equal_to)"
   ]
  },
  {
   "cell_type": "code",
   "execution_count": 74,
   "metadata": {},
   "outputs": [
    {
     "data": {
      "text/plain": [
       "True"
      ]
     },
     "execution_count": 74,
     "metadata": {},
     "output_type": "execute_result"
    }
   ],
   "source": [
    "#(4 < 5) & (8 <65)\n",
    "#not (4 < 5) & (8 <65)\n",
    "(4 < 5) | (8 <65)"
   ]
  },
  {
   "cell_type": "code",
   "execution_count": 93,
   "metadata": {},
   "outputs": [
    {
     "name": "stdout",
     "output_type": "stream",
     "text": [
      "4\n",
      "4\n",
      "3\n",
      "3\n"
     ]
    }
   ],
   "source": [
    "# python math module\n",
    "import math\n",
    "#math.pi\n",
    "#math.e\n",
    "#math.sqrt(100)\n",
    "#math.log(2)\n",
    "#math.log(2,2)\n",
    "#math.sin(45)\n",
    "#math.cos(0)\n",
    "#math.tan(45)\n",
    "#math.degrees(90)\n",
    "#math.radians(90)\n",
    "print(math.ceil(3.621))  #will give u upper / ceiling value\n",
    "print(math.ceil(3.421))\n",
    "print(math.floor(3.621)) #will give u lower / floor valur\n",
    "print(math.floor(3.421))"
   ]
  },
  {
   "cell_type": "code",
   "execution_count": 96,
   "metadata": {},
   "outputs": [
    {
     "name": "stdout",
     "output_type": "stream",
     "text": [
      "Enter your name\n",
      "varun\n",
      "Hello  varun\n"
     ]
    }
   ],
   "source": [
    "#input function\n",
    "print(\"Enter your name\")\n",
    "x = input()\n",
    "print(\"Hello \",x)"
   ]
  },
  {
   "cell_type": "code",
   "execution_count": null,
   "metadata": {},
   "outputs": [],
   "source": [
    "x = input(\"ENter ur name:\")\n",
    "print(\"Hello\" + x)"
   ]
  },
  {
   "cell_type": "code",
   "execution_count": 101,
   "metadata": {},
   "outputs": [
    {
     "name": "stdout",
     "output_type": "stream",
     "text": [
      "ENter the principle:\n",
      "1000\n",
      "ENter the rate:\n",
      "10\n",
      "ENter the time:\n",
      "25\n",
      "2500.0\n"
     ]
    }
   ],
   "source": [
    "print(\"ENter the principle:\")\n",
    "p = int(input())\n",
    "print(\"ENter the rate:\")\n",
    "r = int(input())\n",
    "print(\"ENter the time:\")\n",
    "t = int(input())\n",
    "s = (p*r*t)/100\n",
    "print(s)"
   ]
  },
  {
   "cell_type": "code",
   "execution_count": 103,
   "metadata": {},
   "outputs": [
    {
     "name": "stdout",
     "output_type": "stream",
     "text": [
      "Enter the radius of circle:7\n",
      "Area is: 153.86\n"
     ]
    }
   ],
   "source": [
    "r = int(input(\"Enter the radius of circle:\"))\n",
    "ar = 3.14*r*r\n",
    "print(\"Area is:\",ar)"
   ]
  },
  {
   "cell_type": "code",
   "execution_count": 109,
   "metadata": {},
   "outputs": [
    {
     "name": "stdout",
     "output_type": "stream",
     "text": [
      "a:4\n",
      "b:5\n",
      "c:6\n",
      "First value:  (-0.625-1.1792476415070754j)\n",
      "Second value:  (-0.625+1.1792476415070754j)\n"
     ]
    }
   ],
   "source": [
    "#to solve quadratic eq ax^2 +bx + c = 0\n",
    "import cmath\n",
    "a = int(input(\"a:\"))\n",
    "b = int(input(\"b:\"))\n",
    "c = int(input(\"c:\"))\n",
    "\n",
    "d = ((b^2)-4*a*c)\n",
    "\n",
    "eq1 = (-b - cmath.sqrt(d))/(2*a)\n",
    "eq2 = (-b + cmath.sqrt(d))/(2*a)\n",
    "\n",
    "print(\"First value: \",eq1)\n",
    "print(\"Second value: \",eq2)"
   ]
  },
  {
   "cell_type": "code",
   "execution_count": 1,
   "metadata": {},
   "outputs": [
    {
     "name": "stdout",
     "output_type": "stream",
     "text": [
      "Requirement already satisfied: jupyterthemes in c:\\users\\my pc\\appdata\\local\\programs\\python\\python37\\lib\\site-packages (0.20.0)\n",
      "Requirement already satisfied: jupyter-core in c:\\users\\my pc\\appdata\\local\\programs\\python\\python37\\lib\\site-packages (from jupyterthemes) (4.6.3)\n",
      "Requirement already satisfied: ipython>=5.4.1 in c:\\users\\my pc\\appdata\\local\\programs\\python\\python37\\lib\\site-packages (from jupyterthemes) (7.16.1)\n",
      "Requirement already satisfied: lesscpy>=0.11.2 in c:\\users\\my pc\\appdata\\local\\programs\\python\\python37\\lib\\site-packages (from jupyterthemes) (0.14.0)\n",
      "Requirement already satisfied: notebook>=5.6.0 in c:\\users\\my pc\\appdata\\local\\programs\\python\\python37\\lib\\site-packages (from jupyterthemes) (6.0.3)\n",
      "Requirement already satisfied: matplotlib>=1.4.3 in c:\\users\\my pc\\appdata\\local\\programs\\python\\python37\\lib\\site-packages (from jupyterthemes) (3.3.0)\n",
      "Requirement already satisfied: traitlets in c:\\users\\my pc\\appdata\\local\\programs\\python\\python37\\lib\\site-packages (from jupyter-core->jupyterthemes) (4.3.3)\n",
      "Requirement already satisfied: pywin32>=1.0; sys_platform == \"win32\" in c:\\users\\my pc\\appdata\\local\\programs\\python\\python37\\lib\\site-packages (from jupyter-core->jupyterthemes) (228)\n",
      "Requirement already satisfied: colorama; sys_platform == \"win32\" in c:\\users\\my pc\\appdata\\local\\programs\\python\\python37\\lib\\site-packages (from ipython>=5.4.1->jupyterthemes) (0.4.3)\n",
      "Requirement already satisfied: pickleshare in c:\\users\\my pc\\appdata\\local\\programs\\python\\python37\\lib\\site-packages (from ipython>=5.4.1->jupyterthemes) (0.7.5)\n",
      "Requirement already satisfied: pygments in c:\\users\\my pc\\appdata\\local\\programs\\python\\python37\\lib\\site-packages (from ipython>=5.4.1->jupyterthemes) (2.6.1)\n",
      "Requirement already satisfied: decorator in c:\\users\\my pc\\appdata\\local\\programs\\python\\python37\\lib\\site-packages (from ipython>=5.4.1->jupyterthemes) (4.4.2)\n",
      "Requirement already satisfied: jedi>=0.10 in c:\\users\\my pc\\appdata\\local\\programs\\python\\python37\\lib\\site-packages (from ipython>=5.4.1->jupyterthemes) (0.17.1)\n",
      "Requirement already satisfied: setuptools>=18.5 in c:\\users\\my pc\\appdata\\local\\programs\\python\\python37\\lib\\site-packages (from ipython>=5.4.1->jupyterthemes) (47.1.0)\n",
      "Requirement already satisfied: prompt-toolkit!=3.0.0,!=3.0.1,<3.1.0,>=2.0.0 in c:\\users\\my pc\\appdata\\local\\programs\\python\\python37\\lib\\site-packages (from ipython>=5.4.1->jupyterthemes) (3.0.5)\n",
      "Requirement already satisfied: backcall in c:\\users\\my pc\\appdata\\local\\programs\\python\\python37\\lib\\site-packages (from ipython>=5.4.1->jupyterthemes) (0.2.0)\n",
      "Requirement already satisfied: six in c:\\users\\my pc\\appdata\\local\\programs\\python\\python37\\lib\\site-packages (from lesscpy>=0.11.2->jupyterthemes) (1.15.0)\n",
      "Requirement already satisfied: ply in c:\\users\\my pc\\appdata\\local\\programs\\python\\python37\\lib\\site-packages (from lesscpy>=0.11.2->jupyterthemes) (3.11)\n",
      "Requirement already satisfied: ipython-genutils in c:\\users\\my pc\\appdata\\local\\programs\\python\\python37\\lib\\site-packages (from notebook>=5.6.0->jupyterthemes) (0.2.0)\n",
      "Requirement already satisfied: pyzmq>=17 in c:\\users\\my pc\\appdata\\local\\programs\\python\\python37\\lib\\site-packages (from notebook>=5.6.0->jupyterthemes) (19.0.1)\n",
      "Requirement already satisfied: jinja2 in c:\\users\\my pc\\appdata\\local\\programs\\python\\python37\\lib\\site-packages (from notebook>=5.6.0->jupyterthemes) (2.11.2)\n",
      "Requirement already satisfied: nbformat in c:\\users\\my pc\\appdata\\local\\programs\\python\\python37\\lib\\site-packages (from notebook>=5.6.0->jupyterthemes) (5.0.7)\n",
      "Requirement already satisfied: terminado>=0.8.1 in c:\\users\\my pc\\appdata\\local\\programs\\python\\python37\\lib\\site-packages (from notebook>=5.6.0->jupyterthemes) (0.8.3)\n",
      "Requirement already satisfied: prometheus-client in c:\\users\\my pc\\appdata\\local\\programs\\python\\python37\\lib\\site-packages (from notebook>=5.6.0->jupyterthemes) (0.8.0)\n",
      "Requirement already satisfied: nbconvert in c:\\users\\my pc\\appdata\\local\\programs\\python\\python37\\lib\\site-packages (from notebook>=5.6.0->jupyterthemes) (5.6.1)\n",
      "Requirement already satisfied: jupyter-client>=5.3.4 in c:\\users\\my pc\\appdata\\local\\programs\\python\\python37\\lib\\site-packages (from notebook>=5.6.0->jupyterthemes) (6.1.5)\n",
      "Requirement already satisfied: Send2Trash in c:\\users\\my pc\\appdata\\local\\programs\\python\\python37\\lib\\site-packages (from notebook>=5.6.0->jupyterthemes) (1.5.0)\n",
      "Requirement already satisfied: ipykernel in c:\\users\\my pc\\appdata\\local\\programs\\python\\python37\\lib\\site-packages (from notebook>=5.6.0->jupyterthemes) (5.3.0)\n",
      "Requirement already satisfied: tornado>=5.0 in c:\\users\\my pc\\appdata\\local\\programs\\python\\python37\\lib\\site-packages (from notebook>=5.6.0->jupyterthemes) (6.0.4)\n",
      "Requirement already satisfied: python-dateutil>=2.1 in c:\\users\\my pc\\appdata\\local\\programs\\python\\python37\\lib\\site-packages (from matplotlib>=1.4.3->jupyterthemes) (2.8.1)\n",
      "Requirement already satisfied: numpy>=1.15 in c:\\users\\my pc\\appdata\\local\\programs\\python\\python37\\lib\\site-packages (from matplotlib>=1.4.3->jupyterthemes) (1.19.0)\n",
      "Requirement already satisfied: kiwisolver>=1.0.1 in c:\\users\\my pc\\appdata\\local\\programs\\python\\python37\\lib\\site-packages (from matplotlib>=1.4.3->jupyterthemes) (1.2.0)\n",
      "Requirement already satisfied: cycler>=0.10 in c:\\users\\my pc\\appdata\\local\\programs\\python\\python37\\lib\\site-packages (from matplotlib>=1.4.3->jupyterthemes) (0.10.0)\n",
      "Requirement already satisfied: pillow>=6.2.0 in c:\\users\\my pc\\appdata\\local\\programs\\python\\python37\\lib\\site-packages (from matplotlib>=1.4.3->jupyterthemes) (7.2.0)\n",
      "Requirement already satisfied: pyparsing!=2.0.4,!=2.1.2,!=2.1.6,>=2.0.3 in c:\\users\\my pc\\appdata\\local\\programs\\python\\python37\\lib\\site-packages (from matplotlib>=1.4.3->jupyterthemes) (2.4.7)\n",
      "Requirement already satisfied: parso<0.8.0,>=0.7.0 in c:\\users\\my pc\\appdata\\local\\programs\\python\\python37\\lib\\site-packages (from jedi>=0.10->ipython>=5.4.1->jupyterthemes) (0.7.0)\n",
      "Requirement already satisfied: wcwidth in c:\\users\\my pc\\appdata\\local\\programs\\python\\python37\\lib\\site-packages (from prompt-toolkit!=3.0.0,!=3.0.1,<3.1.0,>=2.0.0->ipython>=5.4.1->jupyterthemes) (0.2.5)\n",
      "Requirement already satisfied: MarkupSafe>=0.23 in c:\\users\\my pc\\appdata\\local\\programs\\python\\python37\\lib\\site-packages (from jinja2->notebook>=5.6.0->jupyterthemes) (1.1.1)\n",
      "Requirement already satisfied: jsonschema!=2.5.0,>=2.4 in c:\\users\\my pc\\appdata\\local\\programs\\python\\python37\\lib\\site-packages (from nbformat->notebook>=5.6.0->jupyterthemes) (3.2.0)\n",
      "Requirement already satisfied: pywinpty>=0.5; os_name == \"nt\" in c:\\users\\my pc\\appdata\\local\\programs\\python\\python37\\lib\\site-packages (from terminado>=0.8.1->notebook>=5.6.0->jupyterthemes) (0.5.7)\n",
      "Requirement already satisfied: pandocfilters>=1.4.1 in c:\\users\\my pc\\appdata\\local\\programs\\python\\python37\\lib\\site-packages (from nbconvert->notebook>=5.6.0->jupyterthemes) (1.4.2)\n",
      "Requirement already satisfied: testpath in c:\\users\\my pc\\appdata\\local\\programs\\python\\python37\\lib\\site-packages (from nbconvert->notebook>=5.6.0->jupyterthemes) (0.4.4)\n",
      "Requirement already satisfied: bleach in c:\\users\\my pc\\appdata\\local\\programs\\python\\python37\\lib\\site-packages (from nbconvert->notebook>=5.6.0->jupyterthemes) (3.1.5)\n",
      "Requirement already satisfied: entrypoints>=0.2.2 in c:\\users\\my pc\\appdata\\local\\programs\\python\\python37\\lib\\site-packages (from nbconvert->notebook>=5.6.0->jupyterthemes) (0.3)\n",
      "Requirement already satisfied: defusedxml in c:\\users\\my pc\\appdata\\local\\programs\\python\\python37\\lib\\site-packages (from nbconvert->notebook>=5.6.0->jupyterthemes) (0.6.0)\n",
      "Requirement already satisfied: mistune<2,>=0.8.1 in c:\\users\\my pc\\appdata\\local\\programs\\python\\python37\\lib\\site-packages (from nbconvert->notebook>=5.6.0->jupyterthemes) (0.8.4)\n",
      "Requirement already satisfied: importlib-metadata; python_version < \"3.8\" in c:\\users\\my pc\\appdata\\local\\programs\\python\\python37\\lib\\site-packages (from jsonschema!=2.5.0,>=2.4->nbformat->notebook>=5.6.0->jupyterthemes) (1.7.0)\n",
      "Requirement already satisfied: attrs>=17.4.0 in c:\\users\\my pc\\appdata\\local\\programs\\python\\python37\\lib\\site-packages (from jsonschema!=2.5.0,>=2.4->nbformat->notebook>=5.6.0->jupyterthemes) (19.3.0)\n",
      "Requirement already satisfied: pyrsistent>=0.14.0 in c:\\users\\my pc\\appdata\\local\\programs\\python\\python37\\lib\\site-packages (from jsonschema!=2.5.0,>=2.4->nbformat->notebook>=5.6.0->jupyterthemes) (0.16.0)\n",
      "Requirement already satisfied: webencodings in c:\\users\\my pc\\appdata\\local\\programs\\python\\python37\\lib\\site-packages (from bleach->nbconvert->notebook>=5.6.0->jupyterthemes) (0.5.1)\n",
      "Requirement already satisfied: packaging in c:\\users\\my pc\\appdata\\local\\programs\\python\\python37\\lib\\site-packages (from bleach->nbconvert->notebook>=5.6.0->jupyterthemes) (20.4)\n",
      "Requirement already satisfied: zipp>=0.5 in c:\\users\\my pc\\appdata\\local\\programs\\python\\python37\\lib\\site-packages (from importlib-metadata; python_version < \"3.8\"->jsonschema!=2.5.0,>=2.4->nbformat->notebook>=5.6.0->jupyterthemes) (3.1.0)\n"
     ]
    }
   ],
   "source": [
    "! pip install jupyterthemes"
   ]
  },
  {
   "cell_type": "code",
   "execution_count": 5,
   "metadata": {},
   "outputs": [],
   "source": [
    "! jt -t monokai"
   ]
  },
  {
   "cell_type": "code",
   "execution_count": 4,
   "metadata": {},
   "outputs": [],
   "source": [
    "! jt -t gruvboxd"
   ]
  },
  {
   "cell_type": "code",
   "execution_count": null,
   "metadata": {},
   "outputs": [],
   "source": []
  },
  {
   "cell_type": "code",
   "execution_count": null,
   "metadata": {},
   "outputs": [],
   "source": []
  }
 ],
 "metadata": {
  "kernelspec": {
   "display_name": "Python 3",
   "language": "python",
   "name": "python3"
  },
  "language_info": {
   "codemirror_mode": {
    "name": "ipython",
    "version": 3
   },
   "file_extension": ".py",
   "mimetype": "text/x-python",
   "name": "python",
   "nbconvert_exporter": "python",
   "pygments_lexer": "ipython3",
   "version": "3.8.5"
  }
 },
 "nbformat": 4,
 "nbformat_minor": 4
}

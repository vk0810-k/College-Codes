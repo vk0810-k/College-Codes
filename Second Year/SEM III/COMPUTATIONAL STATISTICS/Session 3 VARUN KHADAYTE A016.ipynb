{
 "cells": [
  {
   "cell_type": "code",
   "execution_count": 4,
   "metadata": {},
   "outputs": [],
   "source": [
    "#Python Collections (Arrays)\n",
    "#There are four collection data types in the Python programming language:\n",
    "\n",
    "#1. List is a collection which is ordered and changeable. Allows duplicate members.\n",
    "#2. Tuple is a collection which is ordered and unchangeable. Allows duplicate members.\n",
    "#3. Set is a collection which is unordered and unindexed. No duplicate members.\n",
    "#4. Dictionary is a collection which is unordered, changeable and indexed. No duplicate members."
   ]
  },
  {
   "cell_type": "code",
   "execution_count": 5,
   "metadata": {},
   "outputs": [
    {
     "name": "stdout",
     "output_type": "stream",
     "text": [
      "['apple', 'dragon fruit', 'banana', 'cherry', 'mango', 'strawberry']\n"
     ]
    }
   ],
   "source": [
    "#List\n",
    "#A list is a collection which is ordered and changeable. In Python lists are written with square brackets.\n",
    "\n",
    "#Create a List:\n",
    "\n",
    "thislist = [\"apple\",\"dragon fruit\",\"banana\",\"cherry\",\"mango\",\"strawberry\"]\n",
    "print(thislist)"
   ]
  },
  {
   "cell_type": "code",
   "execution_count": 6,
   "metadata": {},
   "outputs": [
    {
     "name": "stdout",
     "output_type": "stream",
     "text": [
      "dragon fruit\n",
      "strawberry\n"
     ]
    }
   ],
   "source": [
    "#Access Items\n",
    "#You access the list items by referring to the index number:\n",
    "#Remember that the first item has index 0.\n",
    "#Print the second item of the list:\n",
    "\n",
    "print(thislist[1]) \n",
    "print(thislist[5])"
   ]
  },
  {
   "cell_type": "code",
   "execution_count": 7,
   "metadata": {},
   "outputs": [
    {
     "name": "stdout",
     "output_type": "stream",
     "text": [
      "['banana', 'cherry', 'mango']\n",
      "['cherry', 'mango', 'strawberry']\n"
     ]
    }
   ],
   "source": [
    "#Range of Indexes\n",
    "#You can specify a range of indexes by specifying where to start and where to end the range.\n",
    "#When specifying a range, the return value will be a new list with the specified items.\n",
    "\n",
    "#Return the third, fourth, and fifth item:\n",
    "\n",
    "print(thislist[2:5])\n",
    "print(thislist[-3:]) #to access the last 3 elements using negative indexing"
   ]
  },
  {
   "cell_type": "code",
   "execution_count": 8,
   "metadata": {},
   "outputs": [
    {
     "name": "stdout",
     "output_type": "stream",
     "text": [
      "[2, 4, 6, 8]\n",
      "[2, 5, 6, 8]\n",
      "[2, 5, 7, 9]\n"
     ]
    }
   ],
   "source": [
    "#Change elements in list\n",
    "# can use assignment operator (=)\n",
    "# to change an item or a range of items\n",
    "\n",
    "# Solve\n",
    "# Create list of 4 even numbers\n",
    "\n",
    "even = [2,4,6,8]\n",
    "print(even)\n",
    "even[1] = 5  #to change the first value from the list \n",
    "print(even)\n",
    "\n",
    "even[2:] = [7,9] #we can chsnge multiple values using indexing\n",
    "print(even)"
   ]
  },
  {
   "cell_type": "code",
   "execution_count": 9,
   "metadata": {},
   "outputs": [
    {
     "name": "stdout",
     "output_type": "stream",
     "text": [
      "[2, 5, 7, 9, 11]\n",
      "[2, 5, 7, 9, 11, 1, 3, 5, 7, 9, 4]\n",
      "[2, 5, 7, 9, 3, 5, 7, 9, 4]\n"
     ]
    }
   ],
   "source": [
    "# Change elements in a list using append() and extend()\n",
    "# can add one item to a list using append()\n",
    "# add several items using extend()\n",
    "\n",
    "even.append(11)\n",
    "print(even)\n",
    "\n",
    "even.extend([1,3,5,7,9,4])\n",
    "print(even)\n",
    "\n",
    "del even[4:6]\n",
    "print(even)"
   ]
  },
  {
   "cell_type": "code",
   "execution_count": 10,
   "metadata": {},
   "outputs": [
    {
     "name": "stdout",
     "output_type": "stream",
     "text": [
      "[3, 6, 9, 12, 15, 18, 21, 24]\n",
      "[3, 6, 9, 12, 15, 3, 6, 9, 12, 15, 3, 6, 9, 12, 15]\n",
      "[[3, 6, 9, 12, 15], [3, 6, 9, 12, 15], [3, 6, 9, 12, 15]]\n"
     ]
    }
   ],
   "source": [
    "# Concatenation\n",
    "# Use + operator to combine two lists.\n",
    "# This is also called concatenation.\n",
    "# * operator repeats a list for the given number of times.\n",
    "\n",
    "# Solve\n",
    "# Create a list of 5 numbers divisible by 3\n",
    "\n",
    "div_by_three = [3,6,9,12,15]\n",
    "print(div_by_three + [18,21,24])\n",
    "print(div_by_three * 3) #will make 3 times print in a list\n",
    "print([div_by_three] * 3) #will make 3 times print in a different list"
   ]
  },
  {
   "cell_type": "code",
   "execution_count": 11,
   "metadata": {},
   "outputs": [
    {
     "name": "stdout",
     "output_type": "stream",
     "text": [
      "['a', 'b', 'c', 'd', 'e']\n"
     ]
    },
    {
     "ename": "NameError",
     "evalue": "name 'word' is not defined",
     "output_type": "error",
     "traceback": [
      "\u001b[1;31m---------------------------------------------------------------------------\u001b[0m",
      "\u001b[1;31mNameError\u001b[0m                                 Traceback (most recent call last)",
      "\u001b[1;32m<ipython-input-11-2d3087ccb9eb>\u001b[0m in \u001b[0;36m<module>\u001b[1;34m\u001b[0m\n\u001b[0;32m     12\u001b[0m \u001b[1;31m#print(word)\u001b[0m\u001b[1;33m\u001b[0m\u001b[1;33m\u001b[0m\u001b[1;33m\u001b[0m\u001b[0m\n\u001b[0;32m     13\u001b[0m \u001b[1;32mdel\u001b[0m \u001b[0mword\u001b[0m  \u001b[1;31m#error will be shown since the whole list is deleted\u001b[0m\u001b[1;33m\u001b[0m\u001b[1;33m\u001b[0m\u001b[0m\n\u001b[1;32m---> 14\u001b[1;33m \u001b[0mprint\u001b[0m\u001b[1;33m(\u001b[0m\u001b[0mword\u001b[0m\u001b[1;33m)\u001b[0m\u001b[1;33m\u001b[0m\u001b[1;33m\u001b[0m\u001b[0m\n\u001b[0m",
      "\u001b[1;31mNameError\u001b[0m: name 'word' is not defined"
     ]
    }
   ],
   "source": [
    "# Delete or Remove elements\n",
    "# can delete one or more items from a list using the keyword .del\n",
    "\n",
    "# Solve\n",
    "# Create a word\n",
    "\n",
    "word = [\"a\",\"b\",\"c\",\"d\",\"e\"]\n",
    "print(word)\n",
    "#del word[2]\n",
    "#print(word)\n",
    "#del word[1:]\n",
    "#print(word)\n",
    "del word  #error will be shown since the whole list is deleted\n",
    "print(word)"
   ]
  },
  {
   "cell_type": "code",
   "execution_count": 12,
   "metadata": {},
   "outputs": [
    {
     "name": "stdout",
     "output_type": "stream",
     "text": [
      "['p', 'y', 't', 'h', 'o', 'n', 's']\n",
      "['p', 'y', 't', 'h', 'o', 'n']\n",
      "t\n"
     ]
    }
   ],
   "source": [
    "# Remove method\n",
    "\n",
    "# can use remove() method to remove the given item or\n",
    "\n",
    "# pop() method to remove an item at the given index.\n",
    "\n",
    "# pop() method removes and returns the last item if index is not \n",
    "# provided implement lists as stacks (first in, last out data structure)\n",
    "\n",
    "# clear() method to empty a list\n",
    "\n",
    "word = ['p','y','t','h','o','n','s']\n",
    "print(word)\n",
    "word.remove('s')\n",
    "print(word)\n",
    "\n",
    "print(word.pop(2))\n",
    "\n",
    "#word.clear()\n",
    "#print(word)"
   ]
  },
  {
   "cell_type": "code",
   "execution_count": 13,
   "metadata": {},
   "outputs": [
    {
     "name": "stdout",
     "output_type": "stream",
     "text": [
      "[3, 5, 6, 7, 8, 9, 11, 25]\n",
      "[25, 11, 9, 8, 7, 6, 5, 3]\n",
      "[3, 5, 6, 7, 8, 9, 11, 25]\n",
      "25\n",
      "3\n",
      "8\n",
      "[3, 5, 6, 7, 8, 9, 11, 25]\n",
      "74\n"
     ]
    }
   ],
   "source": [
    "my_numbers = [3,8,7,5,9,6,11,25]\n",
    "my_numbers.sort() #arrange in asc order\n",
    "print(my_numbers)\n",
    "\n",
    "my_numbers.sort(reverse = True) #arrange in des order can also use .reverse\n",
    "print(my_numbers)\n",
    "\n",
    "my_numbers.reverse() #arrange in des order by .reverse\n",
    "print(my_numbers)\n",
    "\n",
    "print(max(my_numbers)) #to find maximum number\n",
    "print(min(my_numbers)) #to find minimum number\n",
    "print(len(my_numbers)) #to find lenght of list\n",
    "print(sorted(my_numbers))\n",
    "print(sum(my_numbers)) #to find sum of all number"
   ]
  },
  {
   "cell_type": "code",
   "execution_count": 14,
   "metadata": {},
   "outputs": [
    {
     "name": "stdout",
     "output_type": "stream",
     "text": [
      "True\n",
      "False\n",
      "True\n"
     ]
    }
   ],
   "source": [
    "# any() method checks if any element is present in liost or not\n",
    "\n",
    "num1 = [1,4,6,5]\n",
    "print(any(num1))\n",
    "\n",
    "num2 = []\n",
    "print(any(num2))\n",
    "\n",
    "num3 = [1,True]\n",
    "print(any(num3))"
   ]
  },
  {
   "cell_type": "code",
   "execution_count": 15,
   "metadata": {},
   "outputs": [
    {
     "name": "stdout",
     "output_type": "stream",
     "text": [
      "True\n",
      "True\n",
      "True\n",
      "False\n",
      "False\n",
      "True\n"
     ]
    }
   ],
   "source": [
    "# all() method checks whether there is any 0 or false func\n",
    "\n",
    "print(all(num1))\n",
    "print(all(num2))\n",
    "print(all(num3))\n",
    "\n",
    "list1 = [0,0,False]\n",
    "print(all(list1))\n",
    "\n",
    "list2 = [10,0,50]\n",
    "print(all(list2))\n",
    "\n",
    "list3 = [1,1,True]\n",
    "print(all(list3))"
   ]
  },
  {
   "cell_type": "code",
   "execution_count": 16,
   "metadata": {},
   "outputs": [
    {
     "name": "stdout",
     "output_type": "stream",
     "text": [
      "[1, 3, 9, 27, 81, 243, 729, 2187, 6561, 19683]\n"
     ]
    }
   ],
   "source": [
    "# List comprehension is an elegant and concise way to create new list\n",
    "# from an existing list in Python.\n",
    "\n",
    "# List comprehension consists of an expression followed by for\n",
    "# statement inside square brackets.\n",
    "\n",
    "# Solve\n",
    "# Make a list of with each element increasing by power 3\n",
    "\n",
    "powerof3 = [3**x for x in range(10)]\n",
    "print(powerof3)"
   ]
  },
  {
   "cell_type": "code",
   "execution_count": 17,
   "metadata": {},
   "outputs": [
    {
     "name": "stdout",
     "output_type": "stream",
     "text": [
      "True\n",
      "False\n",
      "True\n"
     ]
    }
   ],
   "source": [
    "# Solve\n",
    "# Create a list call alpha\n",
    "\n",
    "word = ['p','y','t','h','o','n','s']\n",
    "print('y'in word) #to check if that word is availa ble in list or not\n",
    "print('c'in word)\n",
    "print('a'not in word)"
   ]
  },
  {
   "cell_type": "code",
   "execution_count": 18,
   "metadata": {},
   "outputs": [
    {
     "name": "stdout",
     "output_type": "stream",
     "text": [
      "I Like  apple\n",
      "I Like  banana\n",
      "I Like  cherry\n",
      "VARUN\n",
      "I Like  apple\n",
      "I Like  dragon fruit\n",
      "I Like  banana\n",
      "I Like  cherry\n",
      "I Like  mango\n",
      "I Like  strawberry\n"
     ]
    }
   ],
   "source": [
    "# Using a for loop we can iterate through each item in a list\n",
    "\n",
    "thislist = [\"apple\",\"dragon fruit\",\"banana\",\"cherry\",\"mango\",\"strawberry\"]\n",
    "\n",
    "for fruits in [\"apple\",\"banana\",\"cherry\"]:\n",
    "    print(\"I Like \",fruits)\n",
    "\n",
    "print(\"VARUN\")\n",
    "    \n",
    "for fruits in thislist:\n",
    "    print(\"I Like \",fruits)        "
   ]
  },
  {
   "cell_type": "code",
   "execution_count": null,
   "metadata": {},
   "outputs": [],
   "source": []
  },
  {
   "cell_type": "code",
   "execution_count": 19,
   "metadata": {},
   "outputs": [
    {
     "ename": "SyntaxError",
     "evalue": "invalid syntax (<ipython-input-19-d488a465baf7>, line 3)",
     "output_type": "error",
     "traceback": [
      "\u001b[1;36m  File \u001b[1;32m\"<ipython-input-19-d488a465baf7>\"\u001b[1;36m, line \u001b[1;32m3\u001b[0m\n\u001b[1;33m    Create a list of ages of four family members at your home.\u001b[0m\n\u001b[1;37m           ^\u001b[0m\n\u001b[1;31mSyntaxError\u001b[0m\u001b[1;31m:\u001b[0m invalid syntax\n"
     ]
    }
   ],
   "source": [
    "Solve\n",
    "\n",
    "Create a list of ages of four family members at your home.\n",
    "Store the ages in a variable called age.\n",
    "Find the maximum age and store it in a variable called max_age.\n",
    "Change your age in age to 24.\n",
    "Display the new list age.\n",
    "Calculate the sum of the ages and save it in a variable called\n",
    "total_age.\n",
    "Calculate the mean of the ages and store it in a variable called\n",
    "mean_age. (hint: sum/number of elements)"
   ]
  },
  {
   "cell_type": "code",
   "execution_count": 20,
   "metadata": {},
   "outputs": [
    {
     "name": "stdout",
     "output_type": "stream",
     "text": [
      "Orignal List:\n",
      "[18, 45, 50, 4]\n",
      "Max age:\n",
      "50\n",
      "New List:\n",
      "[24, 45, 50, 4]\n",
      "sum of age:\n",
      "123\n",
      "Mean of all 4 age:\n",
      "30.75\n"
     ]
    }
   ],
   "source": [
    "age = [18, 45, 50, 4]\n",
    "print(\"Orignal List:\")\n",
    "print(age)\n",
    "\n",
    "max_age = max(age)\n",
    "print(\"Max age:\")\n",
    "print(max_age)\n",
    "\n",
    "age[0] = 24\n",
    "print(\"New List:\")\n",
    "print(age)\n",
    "\n",
    "total_age = sum(age)\n",
    "print(\"sum of age:\")\n",
    "print(total_age)\n",
    "\n",
    "mean_age = sum(age)/len(age)\n",
    "print(\"Mean of all 4 age:\")\n",
    "print(mean_age)"
   ]
  },
  {
   "cell_type": "code",
   "execution_count": 21,
   "metadata": {},
   "outputs": [
    {
     "name": "stdout",
     "output_type": "stream",
     "text": [
      "('banana', 'cherry', 'mango')\n"
     ]
    }
   ],
   "source": [
    "#Python Tuples\n",
    "#A tuple is a collection which is ordered and unchangeable. In Python tuples are written with round brackets.\n",
    "\n",
    "#Create a Tuple:\n",
    "\n",
    "thistuple = (\"apple\",\"dragon fruit\",\"banana\",\"cherry\",\"mango\",\"strawberry\")\n",
    "print(thistuple[2:5])"
   ]
  },
  {
   "cell_type": "code",
   "execution_count": 23,
   "metadata": {},
   "outputs": [
    {
     "name": "stdout",
     "output_type": "stream",
     "text": [
      "('apple', 'dragon fruit', 'berry', 'cherry', 'mango', 'strawberry')\n"
     ]
    }
   ],
   "source": [
    "#Access Tuple Items\n",
    "#You can access tuple items by referring to the index number, inside square brackets:\n",
    "\n",
    "#Print the second item in the tuple:\n",
    "\n",
    "#thistuple[2] = \"berry\"\n",
    "#print(thistuple)\n",
    "\n",
    "thislist = list(thistuple)\n",
    "thislist[2] = \"berry\"\n",
    "thistuple = tuple(thislist)\n",
    "print(thistuple)"
   ]
  },
  {
   "cell_type": "code",
   "execution_count": 85,
   "metadata": {},
   "outputs": [
    {
     "name": "stdout",
     "output_type": "stream",
     "text": [
      "apple\n",
      "dragon fruit\n",
      "berry\n",
      "cherry\n",
      "mango\n",
      "strawberry\n"
     ]
    }
   ],
   "source": [
    "#Range of Indexes\n",
    "#You can specify a range of indexes by specifying where to start and where to end the range.\n",
    "#When specifying a range, the return value will be a new tuple with the specified items.\n",
    "\n",
    "#Return the third, fourth, and fifth item:\n",
    "\n"
   ]
  },
  {
   "cell_type": "code",
   "execution_count": null,
   "metadata": {},
   "outputs": [],
   "source": [
    "#Change Tuple Values\n",
    "#Once a tuple is created, you cannot change its values. Tuples are unchangeable, or immutable as it also is called.\n",
    "\n",
    "#But there is a workaround. You can convert the tuple into a list, change the list, and convert the list back into a tuple.\n",
    "#Convert the tuple into a list to be able to change it:\n",
    "\n"
   ]
  },
  {
   "cell_type": "code",
   "execution_count": 87,
   "metadata": {},
   "outputs": [
    {
     "name": "stdout",
     "output_type": "stream",
     "text": [
      "apple\n",
      "dragon fruit\n",
      "berry\n",
      "cherry\n",
      "mango\n",
      "strawberry\n"
     ]
    }
   ],
   "source": [
    "#Loop Through a Tuple\n",
    "#You can loop through the tuple items by using a for loop.\n",
    "\n",
    "#Iterate through the items and print the values:\n",
    "\n",
    "for fruits in thistuple:\n",
    "    print(fruits)"
   ]
  },
  {
   "cell_type": "code",
   "execution_count": 86,
   "metadata": {},
   "outputs": [
    {
     "name": "stdout",
     "output_type": "stream",
     "text": [
      "Yes,'apple' is present\n"
     ]
    }
   ],
   "source": [
    "#Check if Item Exists\n",
    "#To determine if a specified item is present in a tuple use the in keyword:\n",
    "\n",
    "#Check if \"apple\" is present in the tuple:\n",
    "\n",
    "if \"apple\" in thistuple:\n",
    "    print(\"Yes,'apple' is present\")"
   ]
  },
  {
   "cell_type": "code",
   "execution_count": 88,
   "metadata": {},
   "outputs": [
    {
     "name": "stdout",
     "output_type": "stream",
     "text": [
      "6\n"
     ]
    }
   ],
   "source": [
    "#Tuple Length\n",
    "#To determine how many items a tuple has, use the len() method:\n",
    "\n",
    "print(len(thistuple))"
   ]
  },
  {
   "cell_type": "code",
   "execution_count": 90,
   "metadata": {},
   "outputs": [
    {
     "name": "stdout",
     "output_type": "stream",
     "text": [
      "('apple', 'dragon fruit', 'berry', 'cherry', 'mango', 'strawberry', 1, 2, 3, 4, 5)\n"
     ]
    }
   ],
   "source": [
    "#Join Two Tuples\n",
    "#To join two or more tuples you can use the + operator:\n",
    "\n",
    "tuple2 = (1,2,3,4,5)\n",
    "\n",
    "tuple3 = thistuple + tuple2\n",
    "print(tuple3)"
   ]
  },
  {
   "cell_type": "code",
   "execution_count": 94,
   "metadata": {},
   "outputs": [
    {
     "data": {
      "text/plain": [
       "6"
      ]
     },
     "execution_count": 94,
     "metadata": {},
     "output_type": "execute_result"
    }
   ],
   "source": [
    "#Python Tuple count() Method\n",
    "#Return the number of times the value 5 appears in the tuple:\n",
    "\n",
    "tuple8 = (1,2,5,5,5,6,7,8,5,5,5,65)\n",
    "tuple8.count(5)"
   ]
  },
  {
   "cell_type": "code",
   "execution_count": 97,
   "metadata": {},
   "outputs": [
    {
     "data": {
      "text/plain": [
       "7"
      ]
     },
     "execution_count": 97,
     "metadata": {},
     "output_type": "execute_result"
    }
   ],
   "source": [
    "#Python Tuple index() Method\n",
    "#Search for the first occurrence of the value 8, and return its position:\n",
    "\n",
    "tuple8.index(8)"
   ]
  },
  {
   "cell_type": "code",
   "execution_count": null,
   "metadata": {},
   "outputs": [],
   "source": []
  }
 ],
 "metadata": {
  "kernelspec": {
   "display_name": "Python 3",
   "language": "python",
   "name": "python3"
  },
  "language_info": {
   "codemirror_mode": {
    "name": "ipython",
    "version": 3
   },
   "file_extension": ".py",
   "mimetype": "text/x-python",
   "name": "python",
   "nbconvert_exporter": "python",
   "pygments_lexer": "ipython3",
   "version": "3.8.5"
  }
 },
 "nbformat": 4,
 "nbformat_minor": 4
}

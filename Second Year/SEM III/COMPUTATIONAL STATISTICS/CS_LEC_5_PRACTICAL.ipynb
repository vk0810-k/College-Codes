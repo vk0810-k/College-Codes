{
 "cells": [
  {
   "cell_type": "code",
   "execution_count": 2,
   "metadata": {},
   "outputs": [
    {
     "name": "stdout",
     "output_type": "stream",
     "text": [
      "1\n",
      "2\n",
      "3\n",
      "4\n",
      "5\n"
     ]
    }
   ],
   "source": [
    "#for loop\n",
    "for x in range(1,6):\n",
    "    print(x)"
   ]
  },
  {
   "cell_type": "code",
   "execution_count": 12,
   "metadata": {},
   "outputs": [
    {
     "name": "stdout",
     "output_type": "stream",
     "text": [
      "Vashi\n",
      "Sanpada\n",
      "Juinagar\n",
      "Nerul\n",
      "Belapur\n",
      "Kharghar\n",
      "-------------\n",
      "Vashi\n",
      "Sanpada\n",
      "Juinagar\n",
      "-------------\n",
      "Vashi\n",
      "Sanpada\n"
     ]
    }
   ],
   "source": [
    "stations = [\"Vashi\",\"Sanpada\",\"Juinagar\",\"Nerul\",\"Belapur\",\"Kharghar\"]\n",
    "\n",
    "for x in stations:\n",
    "    print(x)\n",
    "    \n",
    "print(\"-------------\")\n",
    "\n",
    "for x in stations:\n",
    "    print(x)\n",
    "    if x == \"Juinagar\":\n",
    "        break # the break command can stop the loop and can show which all are there before the brsking of loop\n",
    "\n",
    "print(\"-------------\")\n",
    "\n",
    "for x in stations:\n",
    "    if x == \"Juinagar\":\n",
    "        break\n",
    "    print(x)"
   ]
  },
  {
   "cell_type": "code",
   "execution_count": 16,
   "metadata": {},
   "outputs": [
    {
     "name": "stdout",
     "output_type": "stream",
     "text": [
      "Kharghar\n"
     ]
    }
   ],
   "source": [
    "for x in stations:\n",
    "   if x == \"Juinagar\":\n",
    "    continue #with continue we can stop the current iteration and continue with the next\n",
    "print(x)"
   ]
  },
  {
   "cell_type": "code",
   "execution_count": 20,
   "metadata": {
    "scrolled": true
   },
   "outputs": [
    {
     "name": "stdout",
     "output_type": "stream",
     "text": [
      "0\n",
      "1\n",
      "2\n",
      "3\n",
      "4\n",
      "5\n",
      "6\n",
      "7\n",
      "8\n",
      "9\n",
      "-------------\n",
      "5\n",
      "6\n",
      "7\n",
      "8\n",
      "9\n",
      "-------------\n",
      "1\n",
      "3\n",
      "5\n",
      "7\n",
      "9\n",
      "11\n",
      "13\n",
      "15\n",
      "17\n",
      "19\n",
      "-------------\n"
     ]
    }
   ],
   "source": [
    "for num in range(10):\n",
    "    print(num)\n",
    "\n",
    "print(\"-------------\")\n",
    "\n",
    "for num in range(5,10):\n",
    "    print(num)\n",
    "\n",
    "print(\"-------------\")\n",
    "\n",
    "for num in range (1,21,2):\n",
    "    print(num)\n",
    "    \n",
    "print(\"-------------\")"
   ]
  },
  {
   "cell_type": "code",
   "execution_count": 25,
   "metadata": {},
   "outputs": [
    {
     "name": "stdout",
     "output_type": "stream",
     "text": [
      "0\n",
      "1\n",
      "2\n",
      "3\n",
      "4\n",
      "Finished\n"
     ]
    }
   ],
   "source": [
    "#else tells the block of code to be printed when the loop is finished\n",
    "for num in range(5):\n",
    "    print(num)\n",
    "else:\n",
    "    print(\"Finished\")"
   ]
  },
  {
   "cell_type": "code",
   "execution_count": 26,
   "metadata": {},
   "outputs": [
    {
     "name": "stdout",
     "output_type": "stream",
     "text": [
      "-10\n",
      "-9\n",
      "-8\n",
      "-7\n",
      "-6\n",
      "-5\n",
      "-4\n",
      "-3\n",
      "-2\n",
      "-1\n"
     ]
    }
   ],
   "source": [
    "for num in range(-10,0):\n",
    "    print(num)"
   ]
  },
  {
   "cell_type": "code",
   "execution_count": 36,
   "metadata": {},
   "outputs": [
    {
     "name": "stdout",
     "output_type": "stream",
     "text": [
      "Enter the name of the student: Jesse\n",
      "The marks of Jesse is: 60\n"
     ]
    }
   ],
   "source": [
    "marks = {'walter':99,'Jesse':60,'Jon':85,'arthur':64}\n",
    "name = input(\"Enter the name of the student: \")\n",
    "for x in marks:\n",
    "    if x == name:\n",
    "        print(\"The marks of\",name,\"is:\",marks[x])\n",
    "        break\n",
    "else:\n",
    "    print(\"Not Available\")"
   ]
  },
  {
   "cell_type": "code",
   "execution_count": 37,
   "metadata": {},
   "outputs": [
    {
     "name": "stdout",
     "output_type": "stream",
     "text": [
      "red apple\n",
      "red watermelon\n",
      "big apple\n",
      "big watermelon\n",
      "tasty apple\n",
      "tasty watermelon\n"
     ]
    }
   ],
   "source": [
    "adj = [\"red\",\"big\",\"tasty\"]\n",
    "fruits = [\"apple\",\"watermelon\"]\n",
    "\n",
    "for x in adj:\n",
    "    for y in fruits:\n",
    "        print(x,y)"
   ]
  },
  {
   "cell_type": "code",
   "execution_count": 39,
   "metadata": {},
   "outputs": [
    {
     "name": "stdout",
     "output_type": "stream",
     "text": [
      "0 , 10\n",
      "0 , 11\n",
      "0 , 12\n",
      "0 , 13\n",
      "0 , 14\n",
      "1 , 10\n",
      "1 , 11\n",
      "1 , 12\n",
      "1 , 13\n",
      "1 , 14\n",
      "2 , 10\n",
      "2 , 11\n",
      "2 , 12\n",
      "2 , 13\n",
      "2 , 14\n"
     ]
    }
   ],
   "source": [
    "for num1 in range(3):\n",
    "    for num2 in range(10,15):\n",
    "        print(num1,\",\",num2)"
   ]
  },
  {
   "cell_type": "code",
   "execution_count": 41,
   "metadata": {},
   "outputs": [],
   "source": [
    "for x in stations:\n",
    "    pass #pass function is used if the loop is empty and we have to pass it "
   ]
  },
  {
   "cell_type": "code",
   "execution_count": 44,
   "metadata": {},
   "outputs": [
    {
     "name": "stdout",
     "output_type": "stream",
     "text": [
      "The sum is :: 53\n"
     ]
    }
   ],
   "source": [
    "#program to find sum of all numbers stored in list\n",
    "numbers = [2,3,5,6,7,8,9,2,5,6]\n",
    "sum = 0\n",
    "for num in numbers:\n",
    "    sum += num\n",
    "print(\"The sum is ::\",sum)"
   ]
  },
  {
   "cell_type": "code",
   "execution_count": 47,
   "metadata": {},
   "outputs": [
    {
     "name": "stdout",
     "output_type": "stream",
     "text": [
      "['Vashi', 'Sanpada', 'Juinagar', 'Nerul', 'Belapur', 'Kharghar']\n",
      "-------------\n",
      "Vashi\n",
      "Sanpada\n",
      "Juinagar\n",
      "Nerul\n",
      "Belapur\n",
      "Kharghar\n"
     ]
    }
   ],
   "source": [
    "print(stations)\n",
    "\n",
    "print(\"-------------\")\n",
    "#iteration using index values\n",
    "for i in range(len(stations)):\n",
    "    print(stations[i])"
   ]
  },
  {
   "cell_type": "code",
   "execution_count": 51,
   "metadata": {},
   "outputs": [
    {
     "name": "stdout",
     "output_type": "stream",
     "text": [
      "Number of even numbers : 8\n",
      "Number of odd numbers : 8\n"
     ]
    }
   ],
   "source": [
    "#count number of even and odd numbes from a series of numbers\n",
    "\n",
    "numbers = (2,6,5,3,6,9,8,5,2,3,44,55,87,88,89,66)\n",
    "\n",
    "sm = 0\n",
    "ad = 0\n",
    "for x in numbers:\n",
    "    if not x % 2:\n",
    "        sm+=1\n",
    "    else:\n",
    "        ad+=1\n",
    "print(\"Number of even numbers :\",sm)\n",
    "print(\"Number of odd numbers :\",ad)\n",
    "        "
   ]
  },
  {
   "cell_type": "code",
   "execution_count": 52,
   "metadata": {},
   "outputs": [
    {
     "name": "stdout",
     "output_type": "stream",
     "text": [
      "1 \n",
      "1 2 \n",
      "1 2 3 \n",
      "1 2 3 4 \n",
      "1 2 3 4 5 \n"
     ]
    }
   ],
   "source": [
    "rows = 5\n",
    "for row in range(1, rows+1):\n",
    "    for column in range(1, row + 1):\n",
    "        print(column, end=' ')\n",
    "    print(\"\")"
   ]
  },
  {
   "cell_type": "code",
   "execution_count": 55,
   "metadata": {},
   "outputs": [
    {
     "name": "stdout",
     "output_type": "stream",
     "text": [
      "Enter the number: 12\n",
      "Multiplication Table of 12\n",
      "12 X 1 = 12\n",
      "12 X 2 = 24\n",
      "12 X 3 = 36\n",
      "12 X 4 = 48\n",
      "12 X 5 = 60\n",
      "12 X 6 = 72\n",
      "12 X 7 = 84\n",
      "12 X 8 = 96\n",
      "12 X 9 = 108\n",
      "12 X 10 = 120\n"
     ]
    }
   ],
   "source": [
    "num = int(input(\"Enter the number: \"))\n",
    "\n",
    "print(\"Multiplication Table of\", num)\n",
    "for i in range(1, 11):\n",
    "   print(num,\"X\",i,\"=\",num * i)"
   ]
  },
  {
   "cell_type": "code",
   "execution_count": 56,
   "metadata": {
    "scrolled": true
   },
   "outputs": [
    {
     "name": "stdout",
     "output_type": "stream",
     "text": [
      "1\n",
      "2\n",
      "3\n",
      "4\n",
      "5\n",
      "6\n",
      "7\n",
      "8\n",
      "9\n"
     ]
    }
   ],
   "source": [
    "lol = [[1,2,3],[4,5,6],[7,8,9]]\n",
    "\n",
    "for list in lol:\n",
    "    for x in list:\n",
    "        print(x)"
   ]
  },
  {
   "cell_type": "code",
   "execution_count": 57,
   "metadata": {},
   "outputs": [
    {
     "name": "stdout",
     "output_type": "stream",
     "text": [
      "5 is less than 10\n"
     ]
    }
   ],
   "source": [
    "#IF ELSE\n",
    "x = 5\n",
    "if x < 10:\n",
    "    print(x,\"is less than 10\")\n",
    "else:\n",
    "    print(x,\"is greater than 10\")"
   ]
  },
  {
   "cell_type": "code",
   "execution_count": 2,
   "metadata": {},
   "outputs": [
    {
     "name": "stdout",
     "output_type": "stream",
     "text": [
      "Number 1::25\n",
      "Number 2::30\n",
      "25 is less than 30\n"
     ]
    }
   ],
   "source": [
    "x = int(input(\"Number 1::\"))\n",
    "y = int(input(\"Number 2::\"))\n",
    "\n",
    "if x < y:\n",
    "    print(x,'is less than',y)\n",
    "else:\n",
    "    print(x,'is greater than',y)"
   ]
  },
  {
   "cell_type": "code",
   "execution_count": 1,
   "metadata": {},
   "outputs": [
    {
     "name": "stdout",
     "output_type": "stream",
     "text": [
      "Both the condirtions are true\n"
     ]
    }
   ],
   "source": [
    "a = 200\n",
    "b = 30\n",
    "c = 550\n",
    "\n",
    "if a > b and a < c:\n",
    "    print(\"Both the condirtions are true\")"
   ]
  },
  {
   "cell_type": "code",
   "execution_count": 4,
   "metadata": {},
   "outputs": [
    {
     "name": "stdout",
     "output_type": "stream",
     "text": [
      "Enter the number a::20\n",
      "a is smaller than 25\n"
     ]
    }
   ],
   "source": [
    "#NESTED IF\n",
    "\n",
    "a = int(input(\"Enter the number a::\"))\n",
    "if(a == 20):\n",
    "    if(a<25):\n",
    "        print(\"a is smaller than 25\")\n",
    "    else:\n",
    "        print(\"a is greater than 25\")\n",
    "else:\n",
    "    print(\"a is not equal to 20\")"
   ]
  },
  {
   "cell_type": "code",
   "execution_count": 6,
   "metadata": {},
   "outputs": [
    {
     "name": "stdout",
     "output_type": "stream",
     "text": [
      "a is grater than b\n",
      "a is greater than b\n"
     ]
    }
   ],
   "source": [
    "a = 4; b = 3\n",
    "if a > b : print(\"a is grater than b\")\n",
    "\n",
    "print(\"a is greater than b\") if a > b else print(\"b is grater thana \")"
   ]
  },
  {
   "cell_type": "code",
   "execution_count": 8,
   "metadata": {},
   "outputs": [
    {
     "name": "stdout",
     "output_type": "stream",
     "text": [
      "Enter any number::0\n",
      "Zero\n"
     ]
    }
   ],
   "source": [
    "num = int(input(\"Enter any number::\"))\n",
    "\n",
    "if num > 0:\n",
    "    print(\"Positive number.\")\n",
    "elif num == 0:\n",
    "    print(\"Zero\")\n",
    "else:\n",
    "    print(\"Negative number.\")"
   ]
  },
  {
   "cell_type": "code",
   "execution_count": 10,
   "metadata": {},
   "outputs": [
    {
     "name": "stdout",
     "output_type": "stream",
     "text": [
      "Enter the number::2\n",
      "Enter for Square(1) or circle(2)::1\n",
      "Area of square is :: 4\n"
     ]
    }
   ],
   "source": [
    "x = int(input(\"Enter the number::\"))\n",
    "y = int(input(\"Enter for Square(1) or circle(2)::\"))\n",
    "if y == 1:\n",
    "    ar = x*x;\n",
    "    print(\"Area of square is ::\",ar)\n",
    "elif y == 2:\n",
    "    ci = 3.14*x*x;\n",
    "    print(\"Area of square is ::\",ci)\n",
    "else:\n",
    "    print(\"Wrong value entered!!!!!!! #404\")"
   ]
  },
  {
   "cell_type": "code",
   "execution_count": 1,
   "metadata": {},
   "outputs": [
    {
     "name": "stdout",
     "output_type": "stream",
     "text": [
      "1\n",
      "2\n",
      "3\n",
      "4\n",
      "5\n",
      "6\n"
     ]
    }
   ],
   "source": [
    "#WHILE LOOPS\n",
    "i = 1\n",
    "while i <= 6:\n",
    "    print(i)\n",
    "    i = i + 1"
   ]
  },
  {
   "cell_type": "code",
   "execution_count": 3,
   "metadata": {},
   "outputs": [
    {
     "name": "stdout",
     "output_type": "stream",
     "text": [
      "1\n",
      "2\n",
      "3\n"
     ]
    }
   ],
   "source": [
    "i = 1\n",
    "while i <= 6:\n",
    "    print(i)\n",
    "    if i ==3:\n",
    "        break\n",
    "    i = i + 1"
   ]
  },
  {
   "cell_type": "code",
   "execution_count": 3,
   "metadata": {},
   "outputs": [
    {
     "name": "stdout",
     "output_type": "stream",
     "text": [
      "1\n",
      "2\n",
      "3\n",
      "4\n",
      "5\n"
     ]
    }
   ],
   "source": [
    "i = 1\n",
    "while i < 6:\n",
    "    print(i)\n",
    "    i = i + 1\n",
    "    if i ==3:\n",
    "        continue\n"
   ]
  },
  {
   "cell_type": "code",
   "execution_count": 4,
   "metadata": {},
   "outputs": [
    {
     "name": "stdout",
     "output_type": "stream",
     "text": [
      "1\n",
      "2\n",
      "4\n",
      "5\n"
     ]
    }
   ],
   "source": [
    "i = 1\n",
    "while i < 6:\n",
    "    if i ==3:\n",
    "        i = i + 1\n",
    "        continue\n",
    "    print(i)\n",
    "    i = i+1"
   ]
  },
  {
   "cell_type": "code",
   "execution_count": 5,
   "metadata": {},
   "outputs": [
    {
     "name": "stdout",
     "output_type": "stream",
     "text": [
      "1\n",
      "2\n",
      "4\n",
      "5\n",
      "6\n"
     ]
    }
   ],
   "source": [
    "i = 0\n",
    "while i<6:\n",
    "    i = i +1\n",
    "    if i == 3:\n",
    "        continue\n",
    "    print(i)"
   ]
  },
  {
   "cell_type": "code",
   "execution_count": 8,
   "metadata": {},
   "outputs": [
    {
     "name": "stdout",
     "output_type": "stream",
     "text": [
      "Enter the number::90\n",
      "The sum is :: 4095\n"
     ]
    }
   ],
   "source": [
    "#program to add n natural numbers\n",
    "n = int(input(\"Enter the number::\"))\n",
    "add = 0\n",
    "i = 1\n",
    "\n",
    "while i <= n:\n",
    "    add += i\n",
    "    i += 1\n",
    "\n",
    "print(\"The sum is ::\",add)"
   ]
  },
  {
   "cell_type": "code",
   "execution_count": 4,
   "metadata": {},
   "outputs": [
    {
     "name": "stdout",
     "output_type": "stream",
     "text": [
      "total classes held::80\n",
      "total classes attended::78\n",
      "Allowed to sit in exam..\n"
     ]
    }
   ],
   "source": [
    "x = int(input(\"total classes held::\"))\n",
    "y = int(input(\"total classes attended::\"))\n",
    "z = (x / y) * 100\n",
    "if z > 75:\n",
    "    print(\"Allowed to sit in exam..\")\n",
    "elif z < 75:\n",
    "    a = int(input(\"Is the reason medical or not input with Yes(0) or No(1):\"))\n",
    "    if a == 0:\n",
    "        print(\"Allowed to sit in exam..\")\n",
    "    else:\n",
    "        print(\"Not llowed to sit in exam..\")\n",
    "else:\n",
    "    print(\"Not allowed to sit in exam..\")"
   ]
  },
  {
   "cell_type": "code",
   "execution_count": null,
   "metadata": {},
   "outputs": [],
   "source": []
  }
 ],
 "metadata": {
  "kernelspec": {
   "display_name": "Python 3",
   "language": "python",
   "name": "python3"
  },
  "language_info": {
   "codemirror_mode": {
    "name": "ipython",
    "version": 3
   },
   "file_extension": ".py",
   "mimetype": "text/x-python",
   "name": "python",
   "nbconvert_exporter": "python",
   "pygments_lexer": "ipython3",
   "version": "3.8.5"
  }
 },
 "nbformat": 4,
 "nbformat_minor": 4
}
